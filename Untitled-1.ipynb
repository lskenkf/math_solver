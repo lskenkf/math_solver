{
 "cells": [
  {
   "cell_type": "code",
   "execution_count": 14,
   "id": "59dde756",
   "metadata": {},
   "outputs": [
    {
     "name": "stderr",
     "output_type": "stream",
     "text": [
      "\u001b[32m[INFO] 2025-08-29 14:19:48,154 [RapidOCR] base.py:24: Using engine_name: onnxruntime\u001b[0m\n",
      "\u001b[32m[INFO] 2025-08-29 14:19:48,168 [RapidOCR] main.py:55: Using C:\\Users\\lsken\\AppData\\Roaming\\cnstd\\1.2\\ppocr\\ch_PP-OCRv5_det\\ch_PP-OCRv5_det_infer.onnx\u001b[0m\n",
      "100%|██████████| 1/1 [00:03<00:00,  3.12s/it]\n"
     ]
    }
   ],
   "source": [
    "from pix2text import Pix2Text\n",
    "\n",
    "img_fp = 'examples/formula2.png'\n",
    "p2t = Pix2Text.from_config()\n",
    "out =p2t.recognize_formula(\n",
    "    img_fp,\n",
    "    save_analysis_res='output-debug',\n",
    ")"
   ]
  },
  {
   "cell_type": "code",
   "execution_count": 15,
   "id": "ad96bbfc",
   "metadata": {},
   "outputs": [
    {
     "name": "stdout",
     "output_type": "stream",
     "text": [
      "\n",
      "WARNING imgsz=[142, 768] must be multiple of max stride 32, updating to [160, 768]\n"
     ]
    },
    {
     "name": "stdout",
     "output_type": "stream",
     "text": [
      "0: 160x768 1 isolated, 278.0ms\n",
      "Speed: 2.6ms preprocess, 278.0ms inference, 3.3ms postprocess per image at shape (1, 3, 160, 768)\n"
     ]
    },
    {
     "name": "stderr",
     "output_type": "stream",
     "text": [
      "100%|██████████| 1/1 [00:00<00:00,  1.17it/s]\n"
     ]
    },
    {
     "name": "stdout",
     "output_type": "stream",
     "text": [
      "\n",
      "$$\n",
      "e^{k \\left( u \\right)}=\\frac{e^{2 n}-b^{2}} {e^{2 n}+b^{2}}\n",
      "$$\n",
      "\n"
     ]
    }
   ],
   "source": [
    "file = r'D:\\math_solver\\math_solver\\test\\tests\\form_001_E5.png'\n",
    "outs2 = p2t.recognize(file, file_type='text_formula', return_text=True, save_analysis_res='mixed-out.jpg')  # recognize mixed images\n",
    "print(outs2)"
   ]
  }
 ],
 "metadata": {
  "kernelspec": {
   "display_name": "venv",
   "language": "python",
   "name": "python3"
  },
  "language_info": {
   "codemirror_mode": {
    "name": "ipython",
    "version": 3
   },
   "file_extension": ".py",
   "mimetype": "text/x-python",
   "name": "python",
   "nbconvert_exporter": "python",
   "pygments_lexer": "ipython3",
   "version": "3.12.6"
  }
 },
 "nbformat": 4,
 "nbformat_minor": 5
}
